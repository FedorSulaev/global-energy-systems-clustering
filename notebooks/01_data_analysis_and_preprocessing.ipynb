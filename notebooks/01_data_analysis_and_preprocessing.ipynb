{
 "cells": [
  {
   "cell_type": "code",
   "execution_count": null,
   "id": "e00c251c",
   "metadata": {},
   "outputs": [],
   "source": [
    "import pandas as pd"
   ]
  },
  {
   "cell_type": "code",
   "execution_count": 10,
   "id": "8bcdc536",
   "metadata": {},
   "outputs": [
    {
     "name": "stdout",
     "output_type": "stream",
     "text": [
      "Latest year in dataset: 2023\n",
      "<class 'pandas.core.frame.DataFrame'>\n",
      "Index: 48 entries, Argentina to United States\n",
      "Data columns (total 16 columns):\n",
      " #   Column                                             Non-Null Count  Dtype  \n",
      "---  ------                                             --------------  -----  \n",
      " 0   Coal, Peat and Manufactured Gases                  48 non-null     float64\n",
      " 1   Combustible Renewables                             48 non-null     float64\n",
      " 2   Data is estimated for this month                   48 non-null     float64\n",
      " 3   Electricity                                        48 non-null     float64\n",
      " 4   Geothermal                                         48 non-null     float64\n",
      " 5   Hydro                                              48 non-null     float64\n",
      " 6   Natural Gas                                        48 non-null     float64\n",
      " 7   Not Specified                                      48 non-null     float64\n",
      " 8   Nuclear                                            48 non-null     float64\n",
      " 9   Oil and Petroleum Products                         48 non-null     float64\n",
      " 10  Other Combustible Non-Renewables                   48 non-null     float64\n",
      " 11  Other Renewables                                   48 non-null     float64\n",
      " 12  Solar                                              48 non-null     float64\n",
      " 13  Total Combustible Fuels                            48 non-null     float64\n",
      " 14  Total Renewables (Hydro, Geo, Solar, Wind, Other)  48 non-null     float64\n",
      " 15  Wind                                               48 non-null     float64\n",
      "dtypes: float64(16)\n",
      "memory usage: 6.4+ KB\n",
      "None\n"
     ]
    }
   ],
   "source": [
    "# Load dataset\n",
    "df = pd.read_csv(\"data/raw/global_electricity_production_data.csv\")\n",
    "\n",
    "# Convert 'date' column to datetime\n",
    "df['date'] = pd.to_datetime(df['date'], errors='coerce')\n",
    "df = df.dropna(subset=['date'])\n",
    "\n",
    "# Extract year and month\n",
    "df['year'] = df['date'].dt.year\n",
    "df['month'] = df['date'].dt.month\n",
    "\n",
    "# Identify the latest complete year in the dataset\n",
    "latest_year = df['year'].max()\n",
    "print(f\"Latest year in dataset: {latest_year}\")\n",
    "\n",
    "# Filter to that year\n",
    "df_latest = df[df['year'] == latest_year].copy()\n",
    "\n",
    "# Aggregate by country and energy product\n",
    "aggregated = (\n",
    "    df_latest\n",
    "    .groupby(['country_name', 'product'])\n",
    "    .agg(\n",
    "        total_GWh=('value', 'sum'),\n",
    "        avg_GWh=('value', 'mean'),\n",
    "        std_GWh=('value', 'std'),\n",
    "        months_reported=('month', 'nunique')\n",
    "    )\n",
    "    .reset_index()\n",
    ")\n",
    "\n",
    "# Pivot to wide format for clustering later\n",
    "aggregated_pivot = aggregated.pivot_table(\n",
    "    index='country_name',\n",
    "    columns='product',\n",
    "    values='total_GWh',\n",
    "    fill_value=0\n",
    ")\n",
    "\n",
    "print(aggregated_pivot.info())"
   ]
  },
  {
   "cell_type": "code",
   "execution_count": null,
   "id": "0c60e712",
   "metadata": {},
   "outputs": [],
   "source": []
  }
 ],
 "metadata": {
  "kernelspec": {
   "display_name": "Python 3 (ipykernel)",
   "language": "python",
   "name": "python3"
  },
  "language_info": {
   "codemirror_mode": {
    "name": "ipython",
    "version": 3
   },
   "file_extension": ".py",
   "mimetype": "text/x-python",
   "name": "python",
   "nbconvert_exporter": "python",
   "pygments_lexer": "ipython3",
   "version": "3.13.5"
  }
 },
 "nbformat": 4,
 "nbformat_minor": 5
}
